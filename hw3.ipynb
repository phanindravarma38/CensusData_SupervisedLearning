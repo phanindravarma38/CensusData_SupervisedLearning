{
 "cells": [
  {
   "cell_type": "markdown",
   "metadata": {},
   "source": [
    "# Homework 3\n",
    "\n",
    "## Due back by midnight on Wednesday, April 25th.\n",
    "\n",
    "\n",
    "**Names of Collaborators:** \n",
    "\n",
    "**Wedsites Used: **\n",
    "\n"
   ]
  },
  {
   "cell_type": "markdown",
   "metadata": {},
   "source": [
    "### Networkx; Pygraphviz\n",
    "\n",
    "We will be using `networkx` and `pygraphviz` in some of the exercises below. Knowing the format/representation of the results that you obtain from algorithms/constructs in the API is critical, so that you can modify or tailor the code accordingly.\n",
    "\n",
    "**Important:** Make sure that you install all the packages needed to make the following imports work correctly:\n"
   ]
  },
  {
   "cell_type": "code",
   "execution_count": 3,
   "metadata": {},
   "outputs": [
    {
     "ename": "ImportError",
     "evalue": "No module named pygraphviz",
     "output_type": "error",
     "traceback": [
      "\u001b[0;31m---------------------------------------------------------------------------\u001b[0m",
      "\u001b[0;31mImportError\u001b[0m                               Traceback (most recent call last)",
      "\u001b[0;32m<ipython-input-3-e28b090595fc>\u001b[0m in \u001b[0;36m<module>\u001b[0;34m()\u001b[0m\n\u001b[1;32m      1\u001b[0m \u001b[0;32mimport\u001b[0m \u001b[0mpydot\u001b[0m\u001b[0;34m\u001b[0m\u001b[0m\n\u001b[0;32m----> 2\u001b[0;31m \u001b[0;32mimport\u001b[0m \u001b[0mpygraphviz\u001b[0m\u001b[0;34m\u001b[0m\u001b[0m\n\u001b[0m\u001b[1;32m      3\u001b[0m \u001b[0;32mimport\u001b[0m \u001b[0mmatplotlib\u001b[0m\u001b[0;34m\u001b[0m\u001b[0m\n\u001b[1;32m      4\u001b[0m \u001b[0mget_ipython\u001b[0m\u001b[0;34m(\u001b[0m\u001b[0;34m)\u001b[0m\u001b[0;34m.\u001b[0m\u001b[0mmagic\u001b[0m\u001b[0;34m(\u001b[0m\u001b[0;34mu'matplotlib inline'\u001b[0m\u001b[0;34m)\u001b[0m\u001b[0;34m\u001b[0m\u001b[0m\n\u001b[1;32m      5\u001b[0m \u001b[0;32mimport\u001b[0m \u001b[0mmatplotlib\u001b[0m\u001b[0;34m.\u001b[0m\u001b[0mpyplot\u001b[0m \u001b[0;32mas\u001b[0m \u001b[0mplt\u001b[0m\u001b[0;34m\u001b[0m\u001b[0m\n",
      "\u001b[0;31mImportError\u001b[0m: No module named pygraphviz"
     ]
    }
   ],
   "source": [
    "import pydot\n",
    "import pygraphviz\n",
    "import matplotlib \n",
    "% matplotlib inline\n",
    "import matplotlib.pyplot as plt\n",
    "import networkx as nx"
   ]
  },
  {
   "cell_type": "markdown",
   "metadata": {},
   "source": [
    "## Problem 1: Conversion to Leftist Trees\n",
    "\n",
    "Suppose you are given a binary search trees $T_1$. We know that a tree rotation preserves the search tree property, and a natural question to ask is whether it is possible to start with $T_1$ and through a series of appropriate rotations, convert it to a known structure. In this problem, we will figure out how to convert it to a canonical structure for a binary search tree, a **leftist tree**.\n",
    "\n",
    "To be precise, we will assume that by **node**, we always mean a key-bearing node: leaf nodes have no child nodes whereas internal nodes have either one or two child nodes: missing child nodes are marked as null (aka `None`).\n",
    "\n",
    "The following code provides the basic class definition of a BST node and utility functions to create a BST and a dot representation of the tree (after wrapping this within `graph {` and `}`, you can run the `dot` program on it to create a figure of the tree). You can use the figure to see how the trees look after rotations etc."
   ]
  },
  {
   "cell_type": "code",
   "execution_count": null,
   "metadata": {
    "collapsed": true
   },
   "outputs": [],
   "source": [
    "## Do not modify!!\n",
    "\n",
    "class BSTNode:\n",
    "    def __init__(self, key, left=None, right=None, parent=None):\n",
    "        \"\"\"Create a leaf node\"\"\"\n",
    "        self._key = key\n",
    "        self._left = left\n",
    "        self._right = right\n",
    "        self._parent = parent\n",
    "        \n",
    "    def __repr__(self):\n",
    "        return str(self._key)\n",
    "\n",
    "def makeTree(preorder):\n",
    "    \"\"\"Returns a reference to the root of a binary search tree\n",
    "    \n",
    "    preorder: preorder sequence of labels in the BST\n",
    "    \"\"\"\n",
    "    inorder = ''.join(sorted(preorder))\n",
    "    if len(preorder)==0 and preorder==inorder:\n",
    "        return None\n",
    "    elif len(preorder)==1 and preorder==inorder:\n",
    "        return BSTNode(preorder)\n",
    "    else:\n",
    "        rootLabel = preorder[0]\n",
    "        ix = inorder.index(rootLabel)\n",
    "        left_st = makeTree(preorder[1:1+ix])\n",
    "        right_st = makeTree(preorder[1+ix:])\n",
    "        node = BSTNode(rootLabel, left_st, right_st, None)\n",
    "        if left_st:\n",
    "            left_st._parent = node\n",
    "        if right_st:\n",
    "            right_st._parent = node\n",
    "        return node"
   ]
  },
  {
   "cell_type": "code",
   "execution_count": null,
   "metadata": {
    "collapsed": true
   },
   "outputs": [],
   "source": []
  },
  {
   "cell_type": "code",
   "execution_count": null,
   "metadata": {
    "collapsed": true
   },
   "outputs": [],
   "source": [
    "## Do not modify!!\n",
    "\n",
    "tmp = 0\n",
    "def drawTree(node):\n",
    "    \"\"\"Returns a graphviz representation (string) of the tree\n",
    "    rooted at node\n",
    "    \n",
    "    node: a BST node\n",
    "    \"\"\"\n",
    "    def hiddenEdge(rootLabel):\n",
    "        global tmp\n",
    "        stLabel = 'x'+str(tmp)\n",
    "        tmp += 1\n",
    "        s = \"{0} [style=invis]\\n\".format(stLabel)\n",
    "        s += \"{0} -> {1} [style=invis];\\n\".format(rootLabel, stLabel)\n",
    "        return s\n",
    "    s = ''   \n",
    "    if not(node._left) and not(node._right): # leaf node\n",
    "        return s\n",
    "    if node._left:\n",
    "        s1 = \"{0} -> {1};\\n\".format(node._key, node._left._key)\n",
    "        s1 += drawTree(node._left)\n",
    "        s += s1\n",
    "    else:\n",
    "        s += hiddenEdge(node._key)\n",
    "    if node._right:\n",
    "        s2 = \"{0} -> {1};\\n\".format(node._key, node._right._key)\n",
    "        s2 += drawTree(node._right)\n",
    "        s += s2\n",
    "    else:\n",
    "        s += hiddenEdge(node._key)\n",
    "    return s\n",
    "    "
   ]
  },
  {
   "cell_type": "code",
   "execution_count": null,
   "metadata": {
    "collapsed": true
   },
   "outputs": [],
   "source": []
  },
  {
   "cell_type": "code",
   "execution_count": null,
   "metadata": {
    "collapsed": true
   },
   "outputs": [],
   "source": [
    "## Do not modify!! Meant for testing\n",
    "\n",
    "t = makeTree(preorder=\"EDBACHFGIJ\")  # E is the root!\n",
    "print(drawTree(t))\n",
    "\n",
    "drawing = open(\"tree.dot\", 'w')\n",
    "drawing.write('digraph { \\n' + drawTree(t) + '\\n}\\n')\n",
    "drawing.close()\n",
    "\n",
    "t1= nx.DiGraph(nx.drawing.nx_agraph.read_dot('tree.dot'))\n",
    "pos=nx.drawing.nx_agraph.graphviz_layout(t1, prog='dot')\n",
    "nx.draw(t1, pos, with_labels=True, arrows=True) \n"
   ]
  },
  {
   "cell_type": "code",
   "execution_count": null,
   "metadata": {
    "collapsed": true
   },
   "outputs": [],
   "source": []
  },
  {
   "cell_type": "markdown",
   "metadata": {},
   "source": [
    "### The conversion algorithm\n",
    "\n",
    "Call a tree **leftist** if it is a **chain of nodes** starting from the root node and ending at a single leaf node such that **every** internal node has exactly one left child. To convert an arbitrary binary search tree to a leftist tree, consider the following recursive algorithm. Repeatedly perform a left rotation at the root node until it has no right child. Then recursively apply the same algorithm to the left subtree of the root node (figure out the base case for the recursion).\n",
    "\n",
    "Complete the code below. First program the `rotateLeftAt` function. Then complete the `leftistTree` function that takes an arbitrary BST as argument and returns the BST representation of the corresponding leftist tree."
   ]
  },
  {
   "cell_type": "code",
   "execution_count": null,
   "metadata": {
    "collapsed": true
   },
   "outputs": [],
   "source": [
    "## Complete these functions!!\n",
    "\n",
    "def rotateLeftAt(bst):\n",
    "    \"\"\"Returns a reference to the root node of the subtree\n",
    "    that results from performing a left rotation at the root of bst\n",
    "    \n",
    "    bst: the root of a binary search (sub)tree that has a right child\n",
    "    \"\"\"\n",
    "    return bst\n",
    "    \n",
    "    \n",
    "def leftistTree(bst):\n",
    "    \"\"\"Convert bst to return a reference to the root node of \n",
    "    corresponding leftist tree\n",
    "\n",
    "    bst: root node of the bst (not null)\n",
    "    \"\"\"\n",
    "    return bst\n"
   ]
  },
  {
   "cell_type": "code",
   "execution_count": null,
   "metadata": {
    "collapsed": true
   },
   "outputs": [],
   "source": [
    "## Do not modify!! This code is meant for use with tests.\n",
    "\n",
    "def isLeftist(t):\n",
    "    \"\"\"Checks if t is a leftist bst\"\"\"\n",
    "    if not(t._left) and not(t._right):\n",
    "        return True\n",
    "    if t._right:\n",
    "        return False\n",
    "    return isLeftist(t._left)\n",
    "\n",
    "t2 = leftistTree(t)\n",
    "isLeftist(t2)  # should return True!"
   ]
  },
  {
   "cell_type": "code",
   "execution_count": null,
   "metadata": {
    "collapsed": true
   },
   "outputs": [],
   "source": [
    "## Do not modify!! This code is meant for testing\n",
    "drawing = open(\"leftist.dot\", 'w')\n",
    "drawing.write('digraph { \\n' + drawTree(t2) + '\\n}\\n')\n",
    "drawing.close()\n",
    "leftist = nx.DiGraph(nx.drawing.nx_agraph.read_dot('leftist.dot'))\n",
    "pos=nx.drawing.nx_agraph.graphviz_layout(leftist, prog='dot')\n",
    "nx.draw(leftist, pos, node_color='#A0CBE2', with_labels=True, arrows=True)"
   ]
  },
  {
   "cell_type": "markdown",
   "metadata": {},
   "source": [
    "## Problem 2\n",
    "\n",
    "Epidimeologists frequently use graphs to model the spread of disease. In one such simplified framework, they get lots of data of the form: \n",
    "$$[p_i, p_j, t_1]$$\n",
    "indicating that person $p_i$ had contact with person $p_j$ at time $t_1$. Infections can be traced in a simple manner: if $[p_i, p_j, t_1]$ and $[p_j, p_k, t_2]$ are both present in the data for $t_1 \\leq t_2$, then we can assume that if $p_i$ was infected at time $t_1$, then  $p_j$ would get the infection and further pass it to $p_k$ at a later time $t_2$, and so on through a chain of infections. Note that this model assumes that a person once infected, stays infected forever.\n",
    "\n",
    "Provide a **clear, detailed** description of how you would model this as a graph (so you need to indicate what the vertices are, and what the edges are), and design an algorithm that can answer questions such as: given a collection of $m$ triples of data in the form above with a total of $n$ persons amomg the triples, decide whether a person $p$ infected at time $t_x$ could have infected another given person $q$ by time $t_y \\geq t_x$. Your algorithm should run in time proportional to $O(m+n)$: you should explain this. \n",
    "\n",
    "\n"
   ]
  },
  {
   "cell_type": "markdown",
   "metadata": {
    "collapsed": true
   },
   "source": [
    "#### Written Answer for Problem 2\n",
    "\n",
    "In this problem, we can model the data as directed graph where n vertices are $p_i$ and m edges are the links between $p_i$ and $p_j$ and weight is $t_k$. example : {[p1,p2,1],[p2,p3,2],[p2,p4,3],[p3,p4,5]} <img src=\"graph1.png\" width=\"500\"/>.\n",
    "To answer the query with time complexity -- $O(m+n)$,  we should construct the algorithm as follows : \n",
    "\n",
    "\n",
    "After generating the graph we need to begin our traversal from the person p, we do a dfs or bfs traversal but with some constraints to propagate and select edges to explore, the visited state is applied to edges and not vertices because we might visit a node many times but we should not revisit same edge because it has the same value as before and no information or impact is added to the overall state of infections in this case.\n",
    "\n",
    "1. initiate an array Affected[n] of size n with infinite value\n",
    "2. Select node p and initialize it with $t_x$ \n",
    "3. Visit every node affected by p if the edge is >= $t_x$ and update the values of the array Affected with the corresponding weights/time if and only if it's less than previous value (the initial state is inifinite )\n",
    "4. for every node affected/updated we do recursively the same process, the Affected array update constraint is keeping the algorithm out of infinite loops.\n",
    "5. when the recursive process stops, we have the final \"Affected\" array updated with the values of first infections of the person, so to answer the query we look for the numerical value Affected[$q$] and if it's less or equal than t_y then we have a TRUE, otherwise it's FALSE.\n",
    "\n",
    "Complexity discussion: \n",
    "Given the Update only in case of lower affect time, the propagation won't produce any loops in the recursivity so it's comparable to a classic bfs traversal and at the worst case the algorithm will pass through all the edges and that makes it $O(m+n)$.\n"
   ]
  },
  {
   "cell_type": "markdown",
   "metadata": {},
   "source": [
    "## Problem 3\n",
    "\n",
    "Consider the graph shown below as a figure:\n",
    "\n",
    "<img src=\"example.png\" width=\"500\"/>\n",
    "\n",
    "(a) Construct a dot file encoding the graph and call it `p3.dot` - you should submit the file along with this notebook as an attachment."
   ]
  },
  {
   "cell_type": "code",
   "execution_count": null,
   "metadata": {
    "collapsed": true
   },
   "outputs": [],
   "source": [
    "## Complete code for 3(a) here"
   ]
  },
  {
   "cell_type": "markdown",
   "metadata": {},
   "source": [
    "(b) Use the networkx API to compute a depth-first search tree rooted at node 1. Print out the tree edges, the back edges, the forward edges and the cross edges computed in the search (you will need to understand the API to do this)."
   ]
  },
  {
   "cell_type": "code",
   "execution_count": null,
   "metadata": {
    "collapsed": true
   },
   "outputs": [],
   "source": [
    "## Complete code for 3(b) here"
   ]
  },
  {
   "cell_type": "markdown",
   "metadata": {},
   "source": [
    "(c) Use the networkx API to compute and print the strongly connected components (SCCs) of the graph. Your code should be able to automatically construct the SCC super-graph (you should not do this by hand for the specific graph above!) and display it **inline (within the notebook)** using matplotlib and pygraphviz as illustrated above.\n",
    "\n",
    "You should use the super-vertex label the concatenation of the string labels of the constitutent nodes of the original graph separated by underscores (store the list of nodes in a super-vertex as an attribute of the super-node in the networkx representation). For example, the labels of the super-nodes corresponding to the graph shown above could be \"1_3\", \"0\", \"2\" and \"4_5_6_7\".\n"
   ]
  },
  {
   "cell_type": "code",
   "execution_count": null,
   "metadata": {
    "collapsed": true
   },
   "outputs": [],
   "source": [
    "## Complete code for 3(c)"
   ]
  },
  {
   "cell_type": "markdown",
   "metadata": {},
   "source": [
    "## Problem 4\n",
    "\n",
    "A **proper coloring** of a graph is defined in Definition 5.8.1 on the following webpage:\n",
    "\n",
    "**https://www.whitman.edu/mathematics/cgt_online/book/section05.08.html**\n",
    "\n",
    "Basically, in a proper coloring, no two adjacent vertices have the same color. \n",
    "\n",
    "A **planar graph** is one that can be **drawn on a plane (i.e. a sheet of paper) without any of crossing edges**. The following webpage \n",
    "\n",
    "**https://www.whitman.edu/mathematics/cgt_online/book/section05.10.html**\n",
    "\n",
    "provides basic definitions of planarity and establishes some of the basic properties of planar graphs (e.g. Euler's formula, upper bounds on the number of edges of a planar graph) and culmimates in a nice proof that shows that every planar graph can be colored with **at most 5 colors** (Theorem 5.10.6 at the bottom of the page).\n",
    "\n",
    "Of particular interest to us is Lemma 5.10.5 on the same webpage that asserts that in every planar graph, there must be a vertex of degree at most 5. This immediately implies the following weaker result: **every planar graph can be colored with at most 6 colors**. The algorithm is straightforward:\n",
    "\n",
    "- In the graph, find a vertex (call it $v$) whose degree is at most 5. \\\n",
    "\n",
    "- Consider the **rest of the graph, $G-v$**, obtained by deleting $v$ and its incident edges. This graph is also planar by definition, and so we can recursively, compute a 6-coloring for it.\n",
    "\n",
    "- Now, $v$'s neighbors in $G$ are all colored, and between them, only have at most 5 colors. At east one color remains from the set of six colors that has not been used on $v$'s neighboirs. Color $v$ with any such color.\n",
    "\n",
    "The resulting coloring is a 6-coloring!\n",
    "\n"
   ]
  },
  {
   "cell_type": "markdown",
   "metadata": {},
   "source": [
    "#### Data\n",
    "\n",
    "We will use the supplied file, `neighbors-states.csv`, that contains information about US states and their neighboring states. For example, the file has lines\n",
    "\n",
    ">NJ,NY\n",
    "\n",
    "and\n",
    "\n",
    ">NJ,PA\n",
    "\n",
    "that show that New Jersey has Pennsylvania and New York as its \n",
    "neighbors. The resulting graph will naturally be a planar graph."
   ]
  },
  {
   "cell_type": "markdown",
   "metadata": {},
   "source": [
    "### 4(a) \n",
    "\n",
    "Write a function that reads `neighbors-states.csv` (or any file like it that describes edges, one per line) and returns an undirected networkx graph."
   ]
  },
  {
   "cell_type": "code",
   "execution_count": null,
   "metadata": {
    "collapsed": true
   },
   "outputs": [],
   "source": [
    "## Complete thos code\n",
    "\n",
    "def make_graph(file):\n",
    "    \"\"\"Returns a networkx undirected graph\n",
    "    \n",
    "    file: a csv specification of a graph\n",
    "    \"\"\"\n",
    "    return nx.Graph()"
   ]
  },
  {
   "cell_type": "markdown",
   "metadata": {},
   "source": [
    "#### Selecting colors\n",
    "\n",
    "Here is an example of how `networkx` and `matplotlib` assign colors to nodes of graphs."
   ]
  },
  {
   "cell_type": "code",
   "execution_count": null,
   "metadata": {
    "collapsed": true
   },
   "outputs": [],
   "source": [
    "color_list = ['red', 'purple', 'green', 'orange', 'blue', 'yellow']*3\n",
    "t1.nodes()"
   ]
  },
  {
   "cell_type": "code",
   "execution_count": null,
   "metadata": {
    "collapsed": true
   },
   "outputs": [],
   "source": [
    "len(t1.nodes())"
   ]
  },
  {
   "cell_type": "code",
   "execution_count": null,
   "metadata": {
    "collapsed": true
   },
   "outputs": [],
   "source": [
    "pos=nx.drawing.nx_agraph.graphviz_layout(t1, prog='dot')\n",
    "nx.draw(t1, pos, node_color=color_list[:len(t1.nodes())],\n",
    "        with_labels=True, arrows=True)"
   ]
  },
  {
   "cell_type": "markdown",
   "metadata": {},
   "source": [
    "So, colors are assigned in the same order as the listing of nodes of the graph (via the `nodes` method)."
   ]
  },
  {
   "cell_type": "markdown",
   "metadata": {},
   "source": [
    "### 4(b) 6-coloring Planar Graphs\n",
    "\n",
    "Implement the algorithm that was described earlier: given a planar graph as input (in `networkx` undirected graph representation), your code should be able to construct an assignment of colors to the nodes that is a proper coloring with at most six colors. For uniformity, please use `color_list` above as your list of legal colors. \n",
    "\n",
    "**Hint:** You should not have to \"delete\" edges and vertices: simply keep track of a list of eliminated vertices, and the \"current\" degrees of surviving vertices in a dictionary. When there are 6 (or fewer) surviving vertices in the graph, you can simply color them with 6 colors. \n"
   ]
  },
  {
   "cell_type": "code",
   "execution_count": null,
   "metadata": {
    "collapsed": true
   },
   "outputs": [],
   "source": [
    "## Implement the function below: the stub code does niot always return\n",
    "## a correct 6-coloring\n",
    "\n",
    "def six_coloring(g):\n",
    "    \"\"\"Returns a 6-coloring of g as a list of colors\n",
    "    \n",
    "    g: networkx undirected graph known to be planar\n",
    "    \"\"\"\n",
    "    n = len(g.nodes())//6 + 1\n",
    "    color_list = ['red', 'purple', 'green', 'orange', 'blue', 'yellow']*n\n",
    "    color_list = color_list[:len(g.nodes())]\n",
    "    return color_list"
   ]
  },
  {
   "cell_type": "code",
   "execution_count": null,
   "metadata": {
    "collapsed": true
   },
   "outputs": [],
   "source": []
  }
 ],
 "metadata": {
  "anaconda-cloud": {},
  "celltoolbar": "Raw Cell Format",
  "kernelspec": {
   "display_name": "Python 2",
   "language": "python",
   "name": "python2"
  },
  "language_info": {
   "codemirror_mode": {
    "name": "ipython",
    "version": 2
   },
   "file_extension": ".py",
   "mimetype": "text/x-python",
   "name": "python",
   "nbconvert_exporter": "python",
   "pygments_lexer": "ipython2",
   "version": "2.7.13"
  },
  "name": "_merged"
 },
 "nbformat": 4,
 "nbformat_minor": 1
}
