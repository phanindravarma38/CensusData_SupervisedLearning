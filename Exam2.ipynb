{
 "cells": [
  {
   "cell_type": "markdown",
   "metadata": {},
   "source": [
    "# Exam 2: CS 501 (April 28 - May 2, 2018)\n",
    "\n",
    "===================================================\n",
    "\n",
    "## General Instructions\n",
    "\n",
    "1. This is a **take-home** exam. Please refrain from web searches for answers: your activity on the computer should be limited to logging into Sakai and using the Juypter notebook interface. You are bound by the Rutgers Code for Student Conduct: your answers and code will be checked for plagiarism. \n",
    "\n",
    "2. Everything must be explained clearly and completely. Just providing an answer without explanation will incur significant penalty. \n",
    "\n",
    "3. All program code and all the written answers **must be completed in this notebook**: please do not send me scanned pages, doc files etc. Your code will be tested as shown below and must be free of syntax errors, otherwise you automatically lose 50% of the points. \n"
   ]
  },
  {
   "cell_type": "markdown",
   "metadata": {},
   "source": [
    "## Supplied Code and Data\n",
    "\n",
    "The usual nodes and links representation of a binary search tree, in the form of the module **`bst.py`**, is provided to you with this exam - please make sure that it is in the same directory as the notebook. **Do not modify the `bst.py` module!!** Please read it and understand the API: you can use any of API functions from `bst.py` in Problems 1 and 2 below.\n",
    "\n",
    "Two test data files have been included with the exam - they are dot format files meant for testing your code in Problem 6.\n",
    "\n",
    "\n",
    "## Notation \n",
    "\n",
    "Graphs will always be denoted in the form **$G=(V,E)$** where:\n",
    "- $V$ is the set of vertices/nodes and \n",
    "- $E$ the set of edges. \n",
    " \n",
    "It will be\n",
    "specified if the edges are directed/undirected;\n",
    "weighted/unweighted and so on. \n",
    "\n",
    "## Abbreviations\n",
    "\n",
    "**DAG**: a directed acyclic graph, i.e. one with no directed cycles.\n",
    "\n",
    "**DFS**: depth-first search\n",
    "\n",
    "**BFS**: breadth-first search\n",
    "\n",
    "\n"
   ]
  },
  {
   "cell_type": "code",
   "execution_count": 1,
   "metadata": {
    "collapsed": true
   },
   "outputs": [],
   "source": [
    "## DO NOT MODIFY THIS CELL\n",
    "\n",
    "import bst"
   ]
  },
  {
   "cell_type": "markdown",
   "metadata": {},
   "source": [
    "## Problem 1\n",
    "\n",
    "\n",
    "Describe a **linear time** algorithm that **counts** the number of nodes in a binary search tree that have a single child node. Explain why your algorithm runs in linear time. \n"
   ]
  },
  {
   "cell_type": "markdown",
   "metadata": {},
   "source": [
    "### Written answer for problem 1"
   ]
  },
  {
   "cell_type": "markdown",
   "metadata": {
    "collapsed": true
   },
   "source": [
    "#### Complete the description and explanation here\n",
    "The algorithm is a DFS/recursive traversal of nodes from the root, we use the API from bst module to check if a node contains a right or left child, for the sake of simplicity we used a temporary variable to store number of children and then in case of 1 single child node we increment the count. this variable is local to the function so we append the result of nodes to it's parent. \n",
    "The Complexity of the algorithm is $O(n)$ because we can reduce this problem to a single DFS traveral "
   ]
  },
  {
   "cell_type": "markdown",
   "metadata": {},
   "source": [
    "Now provide a **working implementation** of your algorithm by completing the function below."
   ]
  },
  {
   "cell_type": "code",
   "execution_count": 40,
   "metadata": {},
   "outputs": [],
   "source": [
    "# Code for problem 1: COMPLETE THIS CODE\n",
    "\n",
    "def countOneChildNodes(root):\n",
    "    \"\"\"\n",
    "    Counts the number of nodes that have exactly one child node\n",
    "    within the subtree under root\n",
    "    \n",
    "    root: a TreeNode\n",
    "    \"\"\"\n",
    "    count = 0\n",
    "    child = 0 \n",
    "    if root.hasLeftChild():\n",
    "        child+=1\n",
    "        count+=countOneChildNodes(root.hasLeftChild()) \n",
    "    if root.hasRightChild():\n",
    "        child +=1\n",
    "        count+=countOneChildNodes(root.hasRightChild()) \n",
    "    if child == 1:\n",
    "        count = count +1\n",
    "    return count"
   ]
  },
  {
   "cell_type": "code",
   "execution_count": 43,
   "metadata": {},
   "outputs": [],
   "source": [
    "### DO NOT MODIFY THIS CELL: TEST CODE!\n",
    "\n",
    "keys = [16, 12, 19, 14, 18, 15, 11, 17, 10, 13]\n",
    "t1 = bst.BinarySearchTree()\n",
    "for k in keys:\n",
    "    t1.put(k, k)  # values are equal to the keys\n",
    "assert countOneChildNodes(t1.root)==3\n",
    "t1.delete(11)\n",
    "assert countOneChildNodes(t1.root)==2\n",
    "t1.delete(15)\n",
    "assert countOneChildNodes(t1.root)==3"
   ]
  },
  {
   "cell_type": "markdown",
   "metadata": {},
   "source": [
    "## Problem 2\n",
    "\n",
    "Use the code already given to you for binary search trees to implement an algorithm for the following problem: you are given a **range** of integers $[a, b]$ with $a \\leq b$ and asked to find all the numbers in a given binary search tree that lie *within* this range, i.e. find all keys $k$ such that $a \\leq k \\leq b$. \n",
    "\n",
    "**Hint: ** Find the first key that is in the range. Then, keep looking for successors until you go over the range or run out of successors. \n"
   ]
  },
  {
   "cell_type": "code",
   "execution_count": 133,
   "metadata": {},
   "outputs": [],
   "source": [
    "def find_range(t, a, b):\n",
    "    \"\"\"Return a list of all keys within the given range\n",
    "    \n",
    "    t: a binary search tree\n",
    "    a, b: range extremes\n",
    "    \"\"\"\n",
    "    sol = []\n",
    "    cur = t.root.findMin()\n",
    "    while True:\n",
    "        if(a<=cur.key<=b):\n",
    "            sol.append(cur.key)\n",
    "        cur = cur.findSuccessor()\n",
    "        if cur==None:\n",
    "            break;\n",
    "    return sol"
   ]
  },
  {
   "cell_type": "code",
   "execution_count": 45,
   "metadata": {},
   "outputs": [
    {
     "data": {
      "text/plain": [
       "[102, 146, 142, 140, 108, 110, 150, 101, 146, 119]"
      ]
     },
     "execution_count": 45,
     "metadata": {},
     "output_type": "execute_result"
    }
   ],
   "source": [
    "import random\n",
    "lst = [random.randint(100,150) for _ in range(10)]\n",
    "lst"
   ]
  },
  {
   "cell_type": "code",
   "execution_count": 134,
   "metadata": {},
   "outputs": [],
   "source": [
    "### DO NOT MODIFY THIS CELL: TEST CODE!\n",
    "\n",
    "keys = [109, 103, 112, 126, 108, 148, 122, 144, 150, 111]\n",
    "t1 = bst.BinarySearchTree()\n",
    "for k in keys:\n",
    "    t1.put(k, k)  # values are equal to the keys\n",
    "assert find_range(t1, 109, 123)==[109, 111, 112, 122]\n",
    "assert find_range(t1, 120,150)==[122, 126, 144, 148, 150]\n",
    "assert find_range(t1, 100, 115)==[103, 108, 109, 111, 112]\n",
    "assert find_range(t1, 160, 200)==[]"
   ]
  },
  {
   "cell_type": "markdown",
   "metadata": {
    "collapsed": true
   },
   "source": [
    "## Problem 3: True or False with justification\n",
    "\n",
    "For each of the sub-problems below, indicate whether the statement at the end of each problem is true or false. If your answer is true, **explain it in a short paragraph**. If it is false, then provide a **suitable counter-example** to illustrate your answer. Note that you cannot (and should not) use an example to justify an answer that you indicate as true! Also, just answering True or False without explanation will result in substantial point deductions."
   ]
  },
  {
   "cell_type": "markdown",
   "metadata": {},
   "source": [
    "### 3(a)\n",
    "\n",
    "Suppose that you are given just the start and finish times \n",
    "for every vertex in the **DFS forest** of a **directed** graph\n",
    "$G=(V,E)$ whose edges are **unknown**. Then, this information **is sufficient**\n",
    "to deduce the entire collection of edges $E$."
   ]
  },
  {
   "cell_type": "markdown",
   "metadata": {},
   "source": [
    "### Answer 3(a)\n",
    "FALSE\n",
    "From the star-finish time of all vertices we can't deduce the edges of the graph, the reason is that the process is not bijective that means that the graph is not unique thus the non possibility to set 1 solution. As a counter example we can give this graph A->B<-C and this other graph A->B C (this is a forest ). Both of them have the same start finish time A[1-4]B[2-3]C[5-6] if we take as root the vertex A "
   ]
  },
  {
   "cell_type": "markdown",
   "metadata": {},
   "source": [
    "### 3(b)\n",
    "\n",
    "Given a complete binary tree $T$ with $n$ nodes, and given a specific vertex $v \\in T$, it takes BFS $O(\\log n)$ time to search for $v$ starting from the root of $T$."
   ]
  },
  {
   "cell_type": "markdown",
   "metadata": {},
   "source": [
    "### Answer 3(b)\n",
    "False, due to the property of a simple binary tree where no property gives us the possibility to split in half the search space. an example where the search of 50 is not done in  $O(\\log n)$ : \n",
    "<img src=\"graph.PNG\">"
   ]
  },
  {
   "cell_type": "markdown",
   "metadata": {},
   "source": [
    "### 3(c)\n",
    "\n",
    "One can always construct a graph such that DFS applied to the graph results\n",
    "in some vertex $u$ in the graph having start and finish times of 5\n",
    "and 9 respectively."
   ]
  },
  {
   "cell_type": "markdown",
   "metadata": {},
   "source": [
    "### Answer 3(c)\n",
    "\n",
    "FALSE, we can't construct such a graph because we can prove that all finish-start are odd numbers but 9-5=4 is even. \n",
    "//i'm note sure if i should prove it "
   ]
  },
  {
   "cell_type": "markdown",
   "metadata": {},
   "source": [
    "### 3(d)\n",
    "\n",
    "Suppose that BFS is applied to a **connected, undirected**\n",
    "graph $G=(V,E)$ starting from a source node $s$. Suppose that a node $v$ is discovered in the search. Then there is a **unique path** in $G$ from $s$ to $v$.  "
   ]
  },
  {
   "cell_type": "markdown",
   "metadata": {},
   "source": [
    "### Answer 3(d)\n",
    "\n",
    "FALSE, suppose we have this graph A-B-C\n",
    "                                  |   |\n",
    "                                  D-E-F\n",
    "if we start from A to reach C with BFS the path would be A-B-C (shortest) but as we can see there a second path but longer A-D-E-F-C."
   ]
  },
  {
   "cell_type": "markdown",
   "metadata": {},
   "source": [
    "### 3(e)\n",
    "\n",
    "Let $G$ be a directed graph. We know that running DFS on $G$ produces a\n",
    "DFS forest, i.e. a collection of DFS trees. Then, there can be a vertex $u$ in $G$ that is **the\n",
    "only vertex** in its DFS tree and that has **both** incoming and\n",
    "outgoing edges in $G$, i.e. there are edges of the form $(a,u)$ and $(u,b)$ in $G$ for some vertices $a,b$."
   ]
  },
  {
   "cell_type": "markdown",
   "metadata": {},
   "source": [
    "### Answer 3(e)"
   ]
  },
  {
   "cell_type": "markdown",
   "metadata": {},
   "source": [
    "### 3(f)\n",
    "\n",
    "Each strongly connected **component** of a directed graph is by itself\n",
    "a **DAG**."
   ]
  },
  {
   "cell_type": "markdown",
   "metadata": {},
   "source": [
    "### Answer 3(f)\n",
    "\n",
    "FALSE, DAG is by definition an acyclic graph but the connected component are in fact a cycle and can be a composite cycle like in this counter-example (image source wikipedia) \n",
    "<img src=\"SCc.PNG\">"
   ]
  },
  {
   "cell_type": "markdown",
   "metadata": {},
   "source": [
    "### 3(g)\n",
    "\n",
    "Consider a BFS tree rooted at source node $s$ in an undirected graph $G=(V,E)$. Then it is possible that there are distinct vertices $u$ and $v$ with an edge $(u,v)$ such that $u$ and $v$ are both at **distinct even-numbered** levels in the BFS tree (the root is at level 0)."
   ]
  },
  {
   "cell_type": "markdown",
   "metadata": {},
   "source": [
    "### Answer 3(g)\n",
    "\n",
    "FALSE. $u$ and $v$ are both at **distinct even-numbered** levels in the BFS tree means that $u$ is in level $2*n$ and $v$ is in level at least $2n+2$ (or the inverse) but this means the difference of levels is superior that 1.  As we know BFS begins with the closest nodes to root in term of edges, levels is equal to the number of edges to reach the root so given the edge that links $u$ with $v$ the BFS tree shouldn't give the property stated before and instead of that it's impossible to generate a BFS Tree where $u$ and $v$ levels are diferent by more than 1!\n"
   ]
  },
  {
   "cell_type": "markdown",
   "metadata": {},
   "source": [
    "### 3(h)\n",
    "\n",
    "Consider an edge $(u,v)$ in a directed graph $G=(V,E)$. Then, it is possible that in a DFS traversal of $G$, the vertex $u$ may have a finishing time (for the search) that is smaller, i.e. earlier, than the finishing time of $v$.\n"
   ]
  },
  {
   "cell_type": "markdown",
   "metadata": {},
   "source": [
    "### Answer 3(h)\n",
    "TRUE, there is some instances where such case can happen. There is 2 cases if we explore u before v that's impossible because finish[u] will be always bigger than the finish of it's neighbors. In the other case where we begin from v, if there is a path leading to u then we have this case where the finish[u] precedes finish[v]!"
   ]
  },
  {
   "cell_type": "markdown",
   "metadata": {},
   "source": [
    "## Problem 4\n",
    "\n",
    "Suppose that the curriculum for a Masters program in Computer Science consists of $n$ courses and all the courses are mandatory. The **prerequisite structure** for the courses can be modeled as a directed graph $G=(V,E)$ where the vertices are the courses and there is an edge from course $v$ to course $w$ if and only if $v$ is a pre-requisite for $w$. You are given the adjacency list representation of $G$, and wish to determine the **minimum number** of semesters needed to complete the curriculum. You can assume that an arbitrary number of courses can be taken in each semester, and that all pre-requisites for a course mus have been taken in prior semesters before the course itself is taken. \n",
    "\n"
   ]
  },
  {
   "cell_type": "markdown",
   "metadata": {},
   "source": [
    "### 4(a)\n",
    "\n",
    "Explain clearly **what specific graph problem** needs to be solved here.\n"
   ]
  },
  {
   "cell_type": "markdown",
   "metadata": {},
   "source": [
    "### Answer 4(a) \n",
    "\n",
    "This problem is about a DAG (there is no cycle between courses) so to extract the minimum, we can rely on the longuest path between any 2 nodes in order to get the levels. The special thing about **longuest paths** in DAG is the relation with **topological sorting**"
   ]
  },
  {
   "cell_type": "markdown",
   "metadata": {},
   "source": [
    "### 4(b)\n",
    "\n",
    "What is the time complexity of your algorithm? Justify your answer carefully. \n",
    "\n",
    "### Answer 4(b)\n",
    "\n",
    "The complexity is $O(|E|+|V|)$ due the first step of toplogical sorting. Once we have the ordering, we process like this : <br>\n",
    "for every node u in order<br>\n",
    "     for every adjacent vertex v of u<br>\n",
    "\n",
    "       if (dist[v] < dist[u]+1) \n",
    "\n",
    "           dist[v]=dist[u]+1\n",
    "           \n",
    "           \n",
    "the complexity of this process is also $O(|E|+|V|)$. We should note that we have to add a fictional node that connectes to all **roots**, so we have 1 root and the longuest distance is relative to this specific node. It's a trick used in flow problems with multi-source nodes"
   ]
  },
  {
   "cell_type": "markdown",
   "metadata": {},
   "source": [
    "## Problem 5\n",
    "\n",
    "Suppose that we use Huffman's algorithm to obtain an encoding of the alphabet $\\{a, b, c\\}$ with respective frequencies $f_a$, $f_b$ and $f_c$.\n",
    "\n",
    "In each of the following cases, **either give an example** of **specific numeric frequencies** $(f_a, f_b, f_c)$ that would yield\n",
    "the specified code, **or explain why** the code cannot possibly be obtained (no matter what the\n",
    "frequencies are):\n",
    "\n",
    "(a) Code: $\\{0, 10, 11\\}$\n",
    "(b) Code: $\\{0, 1, 00\\}$\n",
    "(c) Code: $\\{10, 01, 00\\}$. "
   ]
  },
  {
   "cell_type": "markdown",
   "metadata": {},
   "source": [
    "### Answer 5(a)\n",
    "\n",
    "here!"
   ]
  },
  {
   "cell_type": "markdown",
   "metadata": {},
   "source": [
    "### Answer 5(b)\n",
    "\n",
    "here!"
   ]
  },
  {
   "cell_type": "markdown",
   "metadata": {},
   "source": [
    "### Answer 5(c)\n",
    "\n",
    "here!"
   ]
  },
  {
   "cell_type": "markdown",
   "metadata": {},
   "source": [
    "## Problem 6\n",
    "\n",
    "You are given a input file containing the **adjacency list representation** of an **undirected graph** $G$ in dot format. The graph  corresponds to **symmetric relationships** among people (the nodes are named after the people), and depending on the relationship, we would like to come up with a **seating arrangement** for a banquet where people are seated at one or more **tables**. You will have to connect the sub-problems below to some graph problems/algorithms that we have studied (and provide justification for why this works), and then use the `networkx` API correctly to implement the given functions.\n",
    "\n",
    "For example, suppose the file `example.dot` contains the following graph specification:"
   ]
  },
  {
   "cell_type": "raw",
   "metadata": {},
   "source": [
    "graph {\n",
    "    A -- B -- C -- D -- E -- F;\n",
    "    B -- E;\n",
    "    A -- F;\n",
    "    G -- H -- I;\n",
    "    G -- I;\n",
    "}"
   ]
  },
  {
   "cell_type": "markdown",
   "metadata": {},
   "source": []
  },
  {
   "cell_type": "markdown",
   "metadata": {},
   "source": [
    "### 6(a)\n",
    "\n",
    "Suppose that $G$ represents the relationship of *being friends*: an edge relates two people symmetrically as being friends with one another. \n",
    "\n",
    "We want to seat people such that every person at a table is friends with every other person sitting at that table, either directly or through some other persons sitting at the same table. For example, in the graph above, A, B, C can sit at the same table. \n",
    "\n",
    "Complete the function below by implementing an efficient algorithm that, given $G$ (via the input file):\n",
    "\n",
    "- returns the **minimum number** of tables needed to seat all the people, and the actual names of the people at each table in the form of separate lists, one per table. \n",
    "\n",
    "For the example graph above, one possible output would be:\n",
    "\n",
    "> 2, ['A', 'B', 'C', 'D', 'E', 'F'], ['G', 'H', 'I']\n"
   ]
  },
  {
   "cell_type": "code",
   "execution_count": 139,
   "metadata": {},
   "outputs": [
    {
     "ename": "ImportError",
     "evalue": "('read_dot() requires pygraphviz ', 'http://pygraphviz.github.io/')",
     "output_type": "error",
     "traceback": [
      "\u001b[0;31m---------------------------------------------------------------------------\u001b[0m",
      "\u001b[0;31mImportError\u001b[0m                               Traceback (most recent call last)",
      "\u001b[0;32m<ipython-input-139-5f8f0b807c0f>\u001b[0m in \u001b[0;36m<module>\u001b[0;34m()\u001b[0m\n\u001b[1;32m      1\u001b[0m \u001b[0;31m## DO NOT DELETE\u001b[0m\u001b[0;34m\u001b[0m\u001b[0;34m\u001b[0m\u001b[0m\n\u001b[1;32m      2\u001b[0m \u001b[0;32mimport\u001b[0m \u001b[0mnetworkx\u001b[0m \u001b[0;32mas\u001b[0m \u001b[0mnx\u001b[0m\u001b[0;34m\u001b[0m\u001b[0m\n\u001b[0;32m----> 3\u001b[0;31m \u001b[0mt1\u001b[0m\u001b[0;34m=\u001b[0m \u001b[0mnx\u001b[0m\u001b[0;34m.\u001b[0m\u001b[0mDiGraph\u001b[0m\u001b[0;34m(\u001b[0m\u001b[0mnx\u001b[0m\u001b[0;34m.\u001b[0m\u001b[0mdrawing\u001b[0m\u001b[0;34m.\u001b[0m\u001b[0mnx_agraph\u001b[0m\u001b[0;34m.\u001b[0m\u001b[0mread_dot\u001b[0m\u001b[0;34m(\u001b[0m\u001b[0;34m'tree.dot'\u001b[0m\u001b[0;34m)\u001b[0m\u001b[0;34m)\u001b[0m\u001b[0;34m\u001b[0m\u001b[0m\n\u001b[0m\u001b[1;32m      4\u001b[0m \u001b[0mpos\u001b[0m\u001b[0;34m=\u001b[0m\u001b[0mnx\u001b[0m\u001b[0;34m.\u001b[0m\u001b[0mdrawing\u001b[0m\u001b[0;34m.\u001b[0m\u001b[0mnx_agraph\u001b[0m\u001b[0;34m.\u001b[0m\u001b[0mgraphviz_layout\u001b[0m\u001b[0;34m(\u001b[0m\u001b[0mt1\u001b[0m\u001b[0;34m,\u001b[0m \u001b[0mprog\u001b[0m\u001b[0;34m=\u001b[0m\u001b[0;34m'dot'\u001b[0m\u001b[0;34m)\u001b[0m\u001b[0;34m\u001b[0m\u001b[0m\n\u001b[1;32m      5\u001b[0m \u001b[0mnx\u001b[0m\u001b[0;34m.\u001b[0m\u001b[0mdraw\u001b[0m\u001b[0;34m(\u001b[0m\u001b[0mt1\u001b[0m\u001b[0;34m,\u001b[0m \u001b[0mpos\u001b[0m\u001b[0;34m,\u001b[0m \u001b[0mwith_labels\u001b[0m\u001b[0;34m=\u001b[0m\u001b[0mTrue\u001b[0m\u001b[0;34m,\u001b[0m \u001b[0marrows\u001b[0m\u001b[0;34m=\u001b[0m\u001b[0mTrue\u001b[0m\u001b[0;34m)\u001b[0m\u001b[0;34m\u001b[0m\u001b[0m\n",
      "\u001b[0;32m/Users/macbookpro/anaconda2/lib/python2.7/site-packages/networkx/drawing/nx_agraph.pyc\u001b[0m in \u001b[0;36mread_dot\u001b[0;34m(path)\u001b[0m\n\u001b[1;32m    201\u001b[0m     \u001b[0;32mexcept\u001b[0m \u001b[0mImportError\u001b[0m\u001b[0;34m:\u001b[0m\u001b[0;34m\u001b[0m\u001b[0m\n\u001b[1;32m    202\u001b[0m         raise ImportError('read_dot() requires pygraphviz ',\n\u001b[0;32m--> 203\u001b[0;31m                           'http://pygraphviz.github.io/')\n\u001b[0m\u001b[1;32m    204\u001b[0m     \u001b[0mA\u001b[0m \u001b[0;34m=\u001b[0m \u001b[0mpygraphviz\u001b[0m\u001b[0;34m.\u001b[0m\u001b[0mAGraph\u001b[0m\u001b[0;34m(\u001b[0m\u001b[0mfile\u001b[0m\u001b[0;34m=\u001b[0m\u001b[0mpath\u001b[0m\u001b[0;34m)\u001b[0m\u001b[0;34m\u001b[0m\u001b[0m\n\u001b[1;32m    205\u001b[0m     \u001b[0;32mreturn\u001b[0m \u001b[0mfrom_agraph\u001b[0m\u001b[0;34m(\u001b[0m\u001b[0mA\u001b[0m\u001b[0;34m)\u001b[0m\u001b[0;34m\u001b[0m\u001b[0m\n",
      "\u001b[0;31mImportError\u001b[0m: ('read_dot() requires pygraphviz ', 'http://pygraphviz.github.io/')"
     ]
    }
   ],
   "source": [
    "## DO NOT DELETE\n",
    "import networkx as nx\n",
    "t1= nx.DiGraph(nx.drawing.nx_agraph.read_dot('tree.dot'))\n",
    "pos=nx.drawing.nx_agraph.graphviz_layout(t1, prog='dot')\n",
    "nx.draw(t1, pos, with_labels=True, arrows=True) "
   ]
  },
  {
   "cell_type": "code",
   "execution_count": null,
   "metadata": {
    "collapsed": true
   },
   "outputs": [],
   "source": [
    "### COMPLETE THIS FUNCTION\n",
    "### You may use any function (or modify  it as necessary) \n",
    "###     from the `networkx` API.\n",
    "\n",
    "def min_tables(g):\n",
    "    \"\"\"Returns the ninimum number of tables\n",
    "    \n",
    "    g: name of text file in dot format\n",
    "    \"\"\"\n",
    "    return 1 "
   ]
  },
  {
   "cell_type": "markdown",
   "metadata": {},
   "source": [
    "In the cell below, state the running time of your algorithm and analyze it clearly (i.e. show why it is correct). "
   ]
  },
  {
   "cell_type": "markdown",
   "metadata": {},
   "source": [
    "### Analysis here!\n",
    "\n"
   ]
  },
  {
   "cell_type": "markdown",
   "metadata": {},
   "source": [
    "### 6(b)\n",
    "\n",
    "Suppose, instead, that $G$ represents the relationship of *being enemies*: an edge relates two people symmetrically as being enemies of one another. \n",
    "\n",
    "We want to seat people so that no two people at a table are enemies. For example, in the graph above, A, B, C cannot sit all together at the same table, but A and C can. \n",
    "\n",
    "Complete the function below by implementing an efficient algorithm that, given $G$ (via the input file), determines **whether or not** there is a way to seat the people **at two tables**. If a seating arrangement is possible, then the function should additionally return the arrangement in the form of two lists of names, one per table.\n",
    "\n",
    "For the example graph above, it is not possible to seat the people at 2 tables so the returned answer is just \n",
    "\n",
    "> False\n",
    "\n",
    "On the other hand, for the following graph (in dot format):"
   ]
  },
  {
   "cell_type": "markdown",
   "metadata": {},
   "source": [
    "graph {\n",
    "    A -- B -- C -- D -- E -- F;\n",
    "    B -- E;\n",
    "    A -- F;\n",
    "    A -- D;\n",
    "    G -- H;\n",
    "}"
   ]
  },
  {
   "cell_type": "markdown",
   "metadata": {},
   "source": [
    "an arrangement is possible, and one possible output from the function could be:\n",
    "\n",
    "> > True, ['C', 'E', 'G', 'A'], ['B', 'H', 'C', 'F']"
   ]
  },
  {
   "cell_type": "code",
   "execution_count": null,
   "metadata": {
    "collapsed": true
   },
   "outputs": [],
   "source": [
    "### COMPLETE THIS FUNCTION\n",
    "### You may use any function (or modify  it as necessary) \n",
    "###     from the `networkx` API.\n",
    "\n",
    "def can_seat_on_two_tables(g):\n",
    "    \"\"\"Return True iff people in the graph can be seated on two\n",
    "    tables.\n",
    "    \n",
    "    g: name of text file in dot format\n",
    "    \"\"\"\n",
    "    return True"
   ]
  },
  {
   "cell_type": "markdown",
   "metadata": {},
   "source": [
    "In the cell below, state the running time of your algorithm and analyze it clearly (i.e. show why it is correct)! "
   ]
  },
  {
   "cell_type": "markdown",
   "metadata": {},
   "source": [
    "### Analysis here!"
   ]
  }
 ],
 "metadata": {
  "anaconda-cloud": {},
  "kernelspec": {
   "display_name": "Python 3",
   "language": "python",
   "name": "python3"
  },
  "language_info": {
   "codemirror_mode": {
    "name": "ipython",
    "version": 2
   },
   "file_extension": ".py",
   "mimetype": "text/x-python",
   "name": "python",
   "nbconvert_exporter": "python",
   "pygments_lexer": "ipython2",
   "version": "2.7.14"
  }
 },
 "nbformat": 4,
 "nbformat_minor": 1
}
